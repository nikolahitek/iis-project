{
 "cells": [
  {
   "cell_type": "markdown",
   "metadata": {},
   "source": [
    "### Imports"
   ]
  },
  {
   "cell_type": "code",
   "execution_count": 1,
   "metadata": {},
   "outputs": [],
   "source": [
    "import pandas as pd\n",
    "import os\n",
    "import numpy as np\n",
    "from skimage.io import imread\n",
    "from sklearn.model_selection import train_test_split\n",
    "from matplotlib import pyplot as plt\n",
    "%matplotlib inline\n",
    "import random\n",
    "from sklearn.preprocessing import MinMaxScaler\n",
    "import numpy as np\n",
    "from tensorflow.python.keras.models import Sequential\n",
    "from tensorflow.python.keras.layers import Dense\n",
    "from tensorflow.python.keras.layers import BatchNormalization\n",
    "from tensorflow.python.keras.layers import Activation\n",
    "from tensorflow.python.keras import optimizers\n",
    "import cv2 as cv"
   ]
  },
  {
   "cell_type": "code",
   "execution_count": 2,
   "metadata": {},
   "outputs": [],
   "source": [
    "def warn(*args, **kwargs):\n",
    "    pass\n",
    "import warnings\n",
    "warnings.warn = warn"
   ]
  },
  {
   "cell_type": "markdown",
   "metadata": {},
   "source": [
    "## Functions for creating the datasets"
   ]
  },
  {
   "cell_type": "code",
   "execution_count": 3,
   "metadata": {},
   "outputs": [],
   "source": [
    "def generate_image_pairs(num_characters, num_instances, to_path):\n",
    "    pairs = []\n",
    "    \n",
    "    # Pairs of same characters (target = 1)\n",
    "    for c in range(1, num_characters + 1):\n",
    "        for i in range(1, num_instances):\n",
    "            for j in range (i + 1, num_instances + 1):\n",
    "                pairs.append([to_path(c, i), to_path(c, j), 1])\n",
    "    \n",
    "    # Calculations for having approximately same number of positive and negative pairs\n",
    "    T = len(pairs)\n",
    "    N = (num_characters - 1) * num_characters // 2\n",
    "    C = T / N\n",
    "    C = round(C)\n",
    "    \n",
    "    # Pairs of different characters (target = 0)\n",
    "    for i in range(1, num_characters):\n",
    "        for j in range (i + 1, num_characters + 1):\n",
    "            \n",
    "            for _ in range(C):\n",
    "                f = random.randint(1, num_instances)\n",
    "                s = random.randint(1, num_instances)\n",
    "                pairs.append([to_path(i, f), to_path(j, s), 0])\n",
    "            \n",
    "    return pairs\n",
    "\n",
    "def create_data_df(num_characters, num_instances, to_path):\n",
    "    pairs = generate_image_pairs(num_characters, num_instances, to_path)\n",
    "    return pd.DataFrame(pairs, columns =['First', 'Second', 'Target'])\n",
    "\n",
    "def load_images(file_paths):\n",
    "    images = []\n",
    "  \n",
    "    for file_path in file_paths:\n",
    "        images.append(cv.imread(file_path, cv.IMREAD_GRAYSCALE))\n",
    "    return images\n",
    "\n",
    "def normalize_data(data):\n",
    "    scaler = MinMaxScaler()\n",
    "    return scaler.fit_transform(data)"
   ]
  },
  {
   "cell_type": "markdown",
   "metadata": {},
   "source": [
    "## Function for feature engineering"
   ]
  },
  {
   "cell_type": "code",
   "execution_count": 4,
   "metadata": {},
   "outputs": [],
   "source": [
    "def create_features(first_images, second_images, labels, drawRandom = False):\n",
    "    sift = cv.xfeatures2d.SIFT_create()\n",
    "    bf = cv.BFMatcher()\n",
    "    \n",
    "    features = []\n",
    "\n",
    "    rn_idx = random.randint(0, len(labels))\n",
    "    \n",
    "    for i in range(len(first_images)):\n",
    "        kp_1, desc_1 = sift.detectAndCompute(first_images[i], None)\n",
    "        kp_2, desc_2 = sift.detectAndCompute(second_images[i], None)\n",
    "        if len(kp_1) > 0 and len(kp_2) > 0:\n",
    "            matches = bf.knnMatch(desc_1, desc_2, k=2)\n",
    "\n",
    "        distances = []\n",
    "        good = []\n",
    "        try:\n",
    "            for m,n in matches:\n",
    "                if m.distance < 0.75 * n.distance:\n",
    "                    distances.append(m.distance)\n",
    "                    good.append([m])\n",
    "        except:\n",
    "            print('Can not detect mathes on image pair.')\n",
    "            \n",
    "        distances.sort()\n",
    "        distances = distances[:9]\n",
    "        distances = distances + [1000] * (9 - len(distances))\n",
    "        distances.append(len(good))\n",
    "        \n",
    "        features.append(distances)\n",
    "        \n",
    "        if (drawRandom and i == rn_idx):\n",
    "            print(distances)\n",
    "            out = None\n",
    "            img3 = cv.drawMatchesKnn(first_images[i], kp_1, second_images[i], kp_2, good, out, flags=2)\n",
    "            plt.figure(figsize = (10, 7)), plt.title(labels[i]), plt.axis('off'), plt.imshow(img3), plt.show()\n",
    "        \n",
    "    return features"
   ]
  },
  {
   "cell_type": "markdown",
   "metadata": {},
   "source": [
    "### Lambdas for images' paths"
   ]
  },
  {
   "cell_type": "code",
   "execution_count": 5,
   "metadata": {},
   "outputs": [],
   "source": [
    "to_path_mine = lambda c, i : str(c) + '/' + str(c) + '_' + str(i) + '.png' if i != 1 else str(c) + '/' + str(c) + '.png'\n",
    "to_path_omniglot = lambda c, i : 'character' + str(c) + '/' + 'c (' + str(i) + ').png'"
   ]
  },
  {
   "cell_type": "markdown",
   "metadata": {},
   "source": [
    "### Generating features for all alphabets"
   ]
  },
  {
   "cell_type": "code",
   "execution_count": null,
   "metadata": {},
   "outputs": [
    {
     "name": "stdout",
     "output_type": "stream",
     "text": [
      "\n",
      "Generating features from: Cyrillic\n",
      "Number of pairs per class:\n",
      "0    6336\n",
      "1    6270\n",
      "Name: Target, dtype: int64\n",
      "[65.6048812866211, 71.95137023925781, 279.66766357421875, 279.7570495605469, 309.2248229980469, 1000, 1000, 1000, 1000, 5]\n"
     ]
    },
    {
     "data": {
      "image/png": "[encoded data removed]",
      "text/plain": [
       "<Figure size 720x504 with 1 Axes>"
      ]
     },
     "metadata": {
      "needs_background": "light"
     },
     "output_type": "display_data"
    }
   ],
   "source": [
    "alphabet_paths = [('E:/Alphabets Project/Cyrillic', 33, 20, to_path_omniglot), \\\n",
    "                  ('E:/Alphabets Project/Alphabet of the Magi', 20, 20, to_path_omniglot), \\\n",
    "                  ('E:/Alphabets Project/Futurama', 26, 20, to_path_omniglot), \\\n",
    "                  #('E:/Alphabets Project/Alphabet 4l 2c/Images', 50, 10, to_path_mine), \\\n",
    "                  #('E:/Alphabets Project/Alphabet 5l 1c/Images', 25, 20, to_path_mine), \\\n",
    "                  #('E:/Alphabets Project/Alphabet 0l 7c/Images', 25, 20, to_path_mine), \\\n",
    "                  ('E:/Alphabets Project/Japanese (Katakana)', 47, 20, to_path_omniglot), \\\n",
    "                  ('E:/Alphabets Project/Sanskrit', 42, 20, to_path_omniglot), \\\n",
    "                  ('E:/Alphabets Project/Armenian', 30, 20, to_path_omniglot)]\n",
    "\n",
    "alphabets = [] # consist of (name, features, y) for every alphabet\n",
    "\n",
    "draw = True\n",
    "for path, c, i, to_path in alphabet_paths:\n",
    "    \n",
    "    print('\\nGenerating features from: ' + path.split('/')[2])\n",
    "    \n",
    "    os.chdir(path)\n",
    "    data = create_data_df(c, i, to_path)\n",
    "    \n",
    "    print('Number of pairs per class:')\n",
    "    print(data['Target'].value_counts())\n",
    "    \n",
    "    X_first_images = load_images(data.First.values)\n",
    "    X_second_images = load_images(data.Second.values)\n",
    "    y = data.Target.values\n",
    "    \n",
    "    features = create_features(X_first_images, X_second_images, y, draw)\n",
    "    draw = False\n",
    "    \n",
    "    alphabets.append((path.split('/')[2], features, y))"
   ]
  },
  {
   "cell_type": "markdown",
   "metadata": {},
   "source": [
    "### Function for creating the NN model"
   ]
  },
  {
   "cell_type": "code",
   "execution_count": null,
   "metadata": {},
   "outputs": [],
   "source": [
    "def nn_model(n_input):\n",
    "    model = Sequential()\n",
    "    model.add(Dense(32, input_dim=n_input, activation='relu'))\n",
    "    model.add(Dense(64, kernel_initializer='normal', activation='relu'))\n",
    "    model.add(Dense(128, kernel_initializer='normal', activation='relu'))\n",
    "    model.add(Dense(1, activation = 'sigmoid'))\n",
    "    \n",
    "    sgd = optimizers.SGD(lr=0.1)\n",
    "    model.compile(loss = 'binary_crossentropy',\n",
    "              optimizer = 'adam',\n",
    "              metrics = ['accuracy'])\n",
    "    \n",
    "    return model"
   ]
  },
  {
   "cell_type": "markdown",
   "metadata": {},
   "source": [
    "# I. Individual training of the NN for each alphabet"
   ]
  },
  {
   "cell_type": "code",
   "execution_count": null,
   "metadata": {},
   "outputs": [],
   "source": [
    "for name, features, y in alphabets:\n",
    "    print(\"\\n\" + name)\n",
    "    X = pd.DataFrame(features, columns = list('abcdefghig'))\n",
    "    X = normalize_data(X)\n",
    "    X_train, X_test, y_train, y_test = train_test_split(X, y, test_size = 0.3, random_state=27)\n",
    "    \n",
    "    print(\"Fitting in progress...\")\n",
    "    standard_model = nn_model(10)\n",
    "    standard_model.fit(X_train, y_train, epochs = 50, batch_size = 32, verbose = 0, validation_split=0.2)\n",
    "    \n",
    "    print(\"Evaluation: \" + str(standard_model.evaluate(X_test, y_test, verbose = 0)))"
   ]
  },
  {
   "cell_type": "markdown",
   "metadata": {},
   "source": [
    "# II. Zero shot learning for every alphabet using Reptile on the rest "
   ]
  },
  {
   "cell_type": "markdown",
   "metadata": {},
   "source": [
    "#### Defing the Reptile algorithm, it takes the test data for the alphabet that we will be predicting and the rest of the alphabets what will be used by the algorithm to tune the NN. "
   ]
  },
  {
   "cell_type": "code",
   "execution_count": 35,
   "metadata": {},
   "outputs": [],
   "source": [
    "def reptile(X_test, y_test, alphabets):\n",
    "\n",
    "    num_iters = 3\n",
    "    k = 10\n",
    "    sample_size = 1000\n",
    "    lr = 0.15\n",
    "\n",
    "    reptile_model = nn_model(10)\n",
    "    W = reptile_model.get_weights()\n",
    "\n",
    "    print(\"\\nInitial evaluation: \" + str(reptile_model.evaluate(X_test, y_test, verbose = 0)) + \"\\n\")\n",
    "\n",
    "    for name, features, y in alphabets:\n",
    "\n",
    "        print('Updating NN weights with: ' + name)\n",
    "\n",
    "        X = pd.DataFrame(features, columns = list('abcdefghig'))\n",
    "        X = normalize_data(X)\n",
    "        \n",
    "        X_full, X_eval, y_full, y_eval = train_test_split(X, y, test_size = 0.3, random_state=27)\n",
    "\n",
    "        for iteration in range(num_iters):\n",
    "           \n",
    "            sample_indices = random.sample(range(len(X_full)), sample_size)\n",
    "            X_sample = np.array([X_full[index] for index in sample_indices])\n",
    "            y_sample = np.array([y_full[index] for index in sample_indices])\n",
    "\n",
    "            new_model = nn_model(10)\n",
    "            new_model.set_weights(W)\n",
    "            new_model.fit(X_sample, y_sample, epochs = k, batch_size = 1, verbose = 0)\n",
    "            _W = new_model.get_weights()\n",
    "\n",
    "            step_size = lr * (1 - iteration / num_iters) \n",
    "            delta = np.subtract(_W, W) * step_size\n",
    "\n",
    "            W = [sum(i) for i in zip(W, delta)] \n",
    "\n",
    "    reptile_model.set_weights(W)\n",
    "    print(\"\\nFinal evaluation: \" + str(reptile_model.evaluate(X_test, y_test, verbose = 0)))"
   ]
  },
  {
   "cell_type": "code",
   "execution_count": 36,
   "metadata": {},
   "outputs": [
    {
     "name": "stdout",
     "output_type": "stream",
     "text": [
      "\n",
      "=================================== Alphabet of the Magi\n",
      "\n",
      "Initial evaluation: [0.694218445451636, 0.5078947368421053]\n",
      "Updating NN weights with: Futurama\n",
      "Updating NN weights with: Cyrillic\n",
      "Updating NN weights with: Japanese (Katakana)\n",
      "Updating NN weights with: Sanskrit\n",
      "Updating NN weights with: Armenian\n",
      "\n",
      "Final evaluation: [0.6357034179202298, 0.6714912280701755]\n",
      "\n",
      "=================================== Futurama\n",
      "\n",
      "Initial evaluation: [0.6931063078660107, 0.4862478777589134]\n",
      "Updating NN weights with: Alphabet of the Magi\n",
      "Updating NN weights with: Cyrillic\n",
      "Updating NN weights with: Japanese (Katakana)\n",
      "Updating NN weights with: Sanskrit\n",
      "Updating NN weights with: Armenian\n",
      "\n",
      "Final evaluation: [0.6103865583805156, 0.7039049235993209]\n",
      "\n",
      "=================================== Cyrillic\n",
      "\n",
      "Initial evaluation: [0.693100151310895, 0.49603384452670546]\n",
      "Updating NN weights with: Alphabet of the Magi\n",
      "Updating NN weights with: Futurama\n",
      "Updating NN weights with: Japanese (Katakana)\n",
      "Updating NN weights with: Sanskrit\n",
      "Updating NN weights with: Armenian\n",
      "\n",
      "Final evaluation: [0.6304187140787549, 0.6766261237440507]\n",
      "\n",
      "=================================== Japanese (Katakana)\n",
      "\n",
      "Initial evaluation: [0.6925005870964838, 0.5312855517407643]\n",
      "Updating NN weights with: Alphabet of the Magi\n",
      "Updating NN weights with: Futurama\n",
      "Updating NN weights with: Cyrillic\n",
      "Updating NN weights with: Sanskrit\n",
      "Updating NN weights with: Armenian\n",
      "\n",
      "Final evaluation: [0.667161264019931, 0.5923397801435034]\n",
      "\n",
      "=================================== Sanskrit\n",
      "\n",
      "Initial evaluation: [0.6904315142390031, 0.4965034965350735]\n",
      "Updating NN weights with: Alphabet of the Magi\n",
      "Updating NN weights with: Futurama\n",
      "Updating NN weights with: Cyrillic\n",
      "Updating NN weights with: Japanese (Katakana)\n",
      "Updating NN weights with: Armenian\n",
      "\n",
      "Final evaluation: [0.6420219947812315, 0.64674719223963]\n",
      "\n",
      "=================================== Armenian\n",
      "\n",
      "Initial evaluation: [0.6942421047611254, 0.41356031702066537]\n",
      "Updating NN weights with: Alphabet of the Magi\n",
      "Updating NN weights with: Futurama\n",
      "Updating NN weights with: Cyrillic\n",
      "Updating NN weights with: Japanese (Katakana)\n",
      "Updating NN weights with: Sanskrit\n",
      "\n",
      "Final evaluation: [0.6462801185422605, 0.6289991195823987]\n"
     ]
    }
   ],
   "source": [
    "for name, features, y in alphabets:\n",
    "    \n",
    "    print(\"\\n========== \" + name)\n",
    "\n",
    "    X = pd.DataFrame(features, columns = list('abcdefghig'))\n",
    "    X = normalize_data(X)\n",
    "    X_train, X_test, y_train, y_test = train_test_split(X, y, test_size = 0.3, random_state=27)\n",
    "    \n",
    "    other_alphabets = list(filter(lambda a: a[0] != name, alphabets))\n",
    "    \n",
    "    reptile(X_test, y_test, other_alphabets)"
   ]
  },
  {
   "cell_type": "markdown",
   "metadata": {},
   "source": [
    "# III. Zero shot learning for every alpgabet with NN trained on pseudo alphabet"
   ]
  },
  {
   "cell_type": "code",
   "execution_count": null,
   "metadata": {},
   "outputs": [],
   "source": []
  },
  {
   "cell_type": "markdown",
   "metadata": {},
   "source": [
    "# IV. Zero shot learning for every alpgabet using Reptile on pseudo alphabets"
   ]
  },
  {
   "cell_type": "markdown",
   "metadata": {},
   "source": [
    "# Comparison"
   ]
  },
  {
   "cell_type": "code",
   "execution_count": null,
   "metadata": {},
   "outputs": [],
   "source": []
  }
 ],
 "metadata": {
  "kernelspec": {
   "display_name": "Python 3",
   "language": "python",
   "name": "python3"
  },
  "language_info": {
   "codemirror_mode": {
    "name": "ipython",
    "version": 3
   },
   "file_extension": ".py",
   "mimetype": "text/x-python",
   "name": "python",
   "nbconvert_exporter": "python",
   "pygments_lexer": "ipython3",
   "version": "3.6.7"
  }
 },
 "nbformat": 4,
 "nbformat_minor": 2
}
