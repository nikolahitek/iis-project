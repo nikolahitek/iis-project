{
 "cells": [
  {
   "cell_type": "markdown",
   "metadata": {},
   "source": [
    "### Imports"
   ]
  },
  {
   "cell_type": "code",
   "execution_count": 1,
   "metadata": {},
   "outputs": [],
   "source": [
    "import pandas as pd\n",
    "import os\n",
    "import numpy as np\n",
    "from skimage.io import imread\n",
    "from sklearn.model_selection import train_test_split\n",
    "from matplotlib import pyplot as plt\n",
    "%matplotlib inline\n",
    "import random\n",
    "from sklearn.preprocessing import MinMaxScaler\n",
    "import numpy as np\n",
    "from tensorflow.python.keras.models import Sequential\n",
    "from tensorflow.python.keras.layers import Dense\n",
    "from tensorflow.python.keras.layers import BatchNormalization\n",
    "from tensorflow.python.keras.layers import Activation\n",
    "from tensorflow.python.keras import optimizers\n",
    "import cv2 as cv"
   ]
  },
  {
   "cell_type": "code",
   "execution_count": 2,
   "metadata": {},
   "outputs": [],
   "source": [
    "def warn(*args, **kwargs):\n",
    "    pass\n",
    "import warnings\n",
    "warnings.warn = warn"
   ]
  },
  {
   "cell_type": "markdown",
   "metadata": {},
   "source": [
    "## Functions for creating the datasets"
   ]
  },
  {
   "cell_type": "code",
   "execution_count": 3,
   "metadata": {},
   "outputs": [],
   "source": [
    "def generate_image_pairs(num_characters, num_instances, to_path):\n",
    "    pairs = []\n",
    "    \n",
    "    # Pairs of same characters (target = 1)\n",
    "    for c in range(1, num_characters + 1):\n",
    "        for i in range(1, num_instances):\n",
    "            for j in range (i + 1, num_instances + 1):\n",
    "                pairs.append([to_path(c, i), to_path(c, j), 1])\n",
    "    \n",
    "    # Calculations for having approximately same number of positive and negative pairs\n",
    "    T = len(pairs)\n",
    "    N = (num_characters - 1) * num_characters // 2\n",
    "    C = T / N\n",
    "    C = round(C)\n",
    "    \n",
    "    # Pairs of different characters (target = 0)\n",
    "    for i in range(1, num_characters):\n",
    "        for j in range (i + 1, num_characters + 1):\n",
    "            for _ in range(C):\n",
    "                f = random.randint(1, num_instances)\n",
    "                s = random.randint(1, num_instances)\n",
    "                pairs.append([to_path(i, f), to_path(j, s), 0])\n",
    "            \n",
    "    return pairs\n",
    "\n",
    "def create_data_df(num_characters, num_instances, to_path):\n",
    "    pairs = generate_image_pairs(num_characters, num_instances, to_path)\n",
    "    return pd.DataFrame(pairs, columns =['First', 'Second', 'Target'])\n",
    "\n",
    "def load_images(file_paths):\n",
    "    images = []\n",
    "  \n",
    "    for file_path in file_paths:\n",
    "        images.append(cv.imread(file_path, cv.IMREAD_GRAYSCALE))\n",
    "    return images\n",
    "\n",
    "def normalize_data(data):\n",
    "    scaler = MinMaxScaler()\n",
    "    return scaler.fit_transform(data)"
   ]
  },
  {
   "cell_type": "markdown",
   "metadata": {},
   "source": [
    "## Function for feature engineering"
   ]
  },
  {
   "cell_type": "code",
   "execution_count": 4,
   "metadata": {},
   "outputs": [],
   "source": [
    "def create_features(first_images, second_images, labels, drawRandom = False):\n",
    "    sift = cv.xfeatures2d.SIFT_create()\n",
    "    bf = cv.BFMatcher()\n",
    "    \n",
    "    features = []\n",
    "\n",
    "    rn_idx = random.randint(0, len(labels))\n",
    "    \n",
    "    for i in range(len(first_images)):\n",
    "        kp_1, desc_1 = sift.detectAndCompute(first_images[i], None)\n",
    "        kp_2, desc_2 = sift.detectAndCompute(second_images[i], None)\n",
    "        if len(kp_1) > 0 and len(kp_2) > 0:\n",
    "            matches = bf.knnMatch(desc_1, desc_2, k=2)\n",
    "\n",
    "        distances = []\n",
    "        good = []\n",
    "        try:\n",
    "            for m,n in matches:\n",
    "                if m.distance < 0.75 * n.distance:\n",
    "                    distances.append(m.distance)\n",
    "                    good.append([m])\n",
    "        except:\n",
    "            print('Can not detect mathes on image pair.')\n",
    "            \n",
    "        distances.sort()\n",
    "        distances = distances[:9]\n",
    "        distances = distances + [1000] * (9 - len(distances))\n",
    "        distances.append(len(good))\n",
    "        \n",
    "        features.append(distances)\n",
    "        \n",
    "        if (drawRandom and i == rn_idx):\n",
    "            print(distances)\n",
    "            out = None\n",
    "            img3 = cv.drawMatchesKnn(first_images[i], kp_1, second_images[i], kp_2, good, out, flags=2)\n",
    "            plt.figure(figsize = (10, 7)), plt.title(labels[i]), plt.axis('off'), plt.imshow(img3), plt.show()\n",
    "        \n",
    "    return features"
   ]
  },
  {
   "cell_type": "markdown",
   "metadata": {},
   "source": [
    "### Lambdas for images' paths"
   ]
  },
  {
   "cell_type": "code",
   "execution_count": 5,
   "metadata": {},
   "outputs": [],
   "source": [
    "to_path_mine = lambda c, i : str(c) + '/' + str(c) + '_' + str(i) + '.png' if i != 1 else str(c) + '/' + str(c) + '.png'\n",
    "to_path_omniglot = lambda c, i : 'character' + str(c) + '/' + 'c (' + str(i) + ').png'"
   ]
  },
  {
   "cell_type": "markdown",
   "metadata": {},
   "source": [
    "### Generating features for all alphabets"
   ]
  },
  {
   "cell_type": "code",
   "execution_count": 6,
   "metadata": {},
   "outputs": [
    {
     "name": "stdout",
     "output_type": "stream",
     "text": [
      "\n",
      "Generating features from: Cyrillic\n",
      "Number of pairs per class:\n",
      "0    6336\n",
      "1    6270\n",
      "Name: Target, dtype: int64\n",
      "[238.36526489257812, 373.53045654296875, 1000, 1000, 1000, 1000, 1000, 1000, 1000, 2]\n"
     ]
    },
    {
     "data": {
      "image/png": "[encoded data removed]",
      "text/plain": [
       "<Figure size 720x504 with 1 Axes>"
      ]
     },
     "metadata": {
      "needs_background": "light"
     },
     "output_type": "display_data"
    },
    {
     "name": "stdout",
     "output_type": "stream",
     "text": [
      "\n",
      "Generating features from: Alphabet of the Magi\n",
      "Number of pairs per class:\n",
      "1    3800\n",
      "0    3800\n",
      "Name: Target, dtype: int64\n",
      "\n",
      "Generating features from: Futurama\n",
      "Number of pairs per class:\n",
      "1    4940\n",
      "0    4875\n",
      "Name: Target, dtype: int64\n",
      "Can not detect mathes on image pair.\n",
      "Can not detect mathes on image pair.\n",
      "Can not detect mathes on image pair.\n",
      "Can not detect mathes on image pair.\n",
      "Can not detect mathes on image pair.\n",
      "Can not detect mathes on image pair.\n",
      "Can not detect mathes on image pair.\n",
      "Can not detect mathes on image pair.\n",
      "Can not detect mathes on image pair.\n",
      "Can not detect mathes on image pair.\n",
      "Can not detect mathes on image pair.\n",
      "\n",
      "Generating features from: Japanese (Katakana)\n",
      "Number of pairs per class:\n",
      "1    8930\n",
      "0    8648\n",
      "Name: Target, dtype: int64\n",
      "\n",
      "Generating features from: Sanskrit\n",
      "Number of pairs per class:\n",
      "1    7980\n",
      "0    7749\n",
      "Name: Target, dtype: int64\n",
      "\n",
      "Generating features from: Armenian\n",
      "Number of pairs per class:\n",
      "1    5700\n",
      "0    5655\n",
      "Name: Target, dtype: int64\n"
     ]
    }
   ],
   "source": [
    "alphabet_paths = [('E:/Alphabets Project/Cyrillic', 33, 20, to_path_omniglot), \\\n",
    "                  ('E:/Alphabets Project/Alphabet of the Magi', 20, 20, to_path_omniglot), \\\n",
    "                  ('E:/Alphabets Project/Futurama', 26, 20, to_path_omniglot), \\\n",
    "                  ('E:/Alphabets Project/Japanese (Katakana)', 47, 20, to_path_omniglot), \\\n",
    "                  ('E:/Alphabets Project/Sanskrit', 42, 20, to_path_omniglot), \\\n",
    "                  ('E:/Alphabets Project/Armenian', 30, 20, to_path_omniglot)]\n",
    "\n",
    "alphabets = [] # consist of (name, features, y) for every alphabet\n",
    "\n",
    "draw = True\n",
    "for path, c, i, to_path in alphabet_paths:\n",
    "    \n",
    "    print('\\nGenerating features from: ' + path.split('/')[2])\n",
    "    \n",
    "    os.chdir(path)\n",
    "    data = create_data_df(c, i, to_path)\n",
    "    \n",
    "    print('Number of pairs per class:')\n",
    "    print(data['Target'].value_counts())\n",
    "    \n",
    "    X_first_images = load_images(data.First.values)\n",
    "    X_second_images = load_images(data.Second.values)\n",
    "    y = data.Target.values\n",
    "    \n",
    "    features = create_features(X_first_images, X_second_images, y, draw)\n",
    "    draw = False\n",
    "    \n",
    "    alphabets.append((path.split('/')[2], features, y))"
   ]
  },
  {
   "cell_type": "code",
   "execution_count": 7,
   "metadata": {},
   "outputs": [
    {
     "name": "stdout",
     "output_type": "stream",
     "text": [
      "\n",
      "Generating features from: Alphabet 2l 5c\n",
      "Number of pairs per class:\n",
      "1    3800\n",
      "0    3800\n",
      "Name: Target, dtype: int64\n",
      "[153.62290954589844, 177.9971923828125, 275.10906982421875, 289.0639953613281, 1000, 1000, 1000, 1000, 1000, 4]\n"
     ]
    },
    {
     "data": {
      "image/png": "[encoded data removed]",
      "text/plain": [
       "<Figure size 720x504 with 1 Axes>"
      ]
     },
     "metadata": {
      "needs_background": "light"
     },
     "output_type": "display_data"
    },
    {
     "name": "stdout",
     "output_type": "stream",
     "text": [
      "\n",
      "Generating features from: Alphabet 4l 2c\n",
      "Number of pairs per class:\n",
      "0    2450\n",
      "1    2250\n",
      "Name: Target, dtype: int64\n",
      "\n",
      "Generating features from: Alphabet 4l 4c\n",
      "Number of pairs per class:\n",
      "1    3800\n",
      "0    3800\n",
      "Name: Target, dtype: int64\n",
      "\n",
      "Generating features from: Alphabet 5l 1c\n",
      "Number of pairs per class:\n",
      "0    4800\n",
      "1    4750\n",
      "Name: Target, dtype: int64\n",
      "\n",
      "Generating features from: Alphabet 7l 3c\n",
      "Number of pairs per class:\n",
      "1    3800\n",
      "0    3800\n",
      "Name: Target, dtype: int64\n",
      "\n",
      "Generating features from: Alphabet 0l 7c\n",
      "Number of pairs per class:\n",
      "0    4800\n",
      "1    4750\n",
      "Name: Target, dtype: int64\n"
     ]
    }
   ],
   "source": [
    "pseudo_alphabet_paths = [('E:/Alphabets Project/Alphabet 2l 5c/Images', 20, 20, to_path_mine), \\\n",
    "                         ('E:/Alphabets Project/Alphabet 4l 2c/Images', 50, 10, to_path_mine), \\\n",
    "                         ('E:/Alphabets Project/Alphabet 4l 4c/Images', 20, 20, to_path_mine), \\\n",
    "                         ('E:/Alphabets Project/Alphabet 5l 1c/Images', 25, 20, to_path_mine), \\\n",
    "                         ('E:/Alphabets Project/Alphabet 7l 3c/Images', 20, 20, to_path_mine), \\\n",
    "                         ('E:/Alphabets Project/Alphabet 0l 7c/Images', 25, 20, to_path_mine)]\n",
    "\n",
    "pseudo_alphabets = [] # consist of (name, features, y) for every alphabet\n",
    "\n",
    "draw = True\n",
    "for path, c, i, to_path in pseudo_alphabet_paths:\n",
    "    \n",
    "    print('\\nGenerating features from: ' + path.split('/')[2])\n",
    "    \n",
    "    os.chdir(path)\n",
    "    data = create_data_df(c, i, to_path)\n",
    "    \n",
    "    print('Number of pairs per class:')\n",
    "    print(data['Target'].value_counts())\n",
    "    \n",
    "    X_first_images = load_images(data.First.values)\n",
    "    X_second_images = load_images(data.Second.values)\n",
    "    y = data.Target.values\n",
    "    \n",
    "    features = create_features(X_first_images, X_second_images, y, draw)\n",
    "    draw = False\n",
    "    \n",
    "    pseudo_alphabets.append((path.split('/')[2], features, y))"
   ]
  },
  {
   "cell_type": "markdown",
   "metadata": {},
   "source": [
    "### Function for creating the NN model"
   ]
  },
  {
   "cell_type": "code",
   "execution_count": 8,
   "metadata": {},
   "outputs": [],
   "source": [
    "def nn_model(n_input):\n",
    "    model = Sequential()\n",
    "    model.add(Dense(32, input_dim=n_input, activation='relu'))\n",
    "    model.add(Dense(64, kernel_initializer='normal', activation='relu'))\n",
    "    model.add(Dense(128, kernel_initializer='normal', activation='relu'))\n",
    "    model.add(Dense(1, activation = 'sigmoid'))\n",
    "    \n",
    "    model.compile(loss = 'binary_crossentropy',\n",
    "              optimizer = 'adam',\n",
    "              metrics = ['accuracy'])\n",
    "    \n",
    "    return model"
   ]
  },
  {
   "cell_type": "code",
   "execution_count": 10,
   "metadata": {},
   "outputs": [
    {
     "name": "stdout",
     "output_type": "stream",
     "text": [
      "_________________________________________________________________\n",
      "Layer (type)                 Output Shape              Param #   \n",
      "=================================================================\n",
      "dense (Dense)                (None, 32)                352       \n",
      "_________________________________________________________________\n",
      "dense_1 (Dense)              (None, 64)                2112      \n",
      "_________________________________________________________________\n",
      "dense_2 (Dense)              (None, 128)               8320      \n",
      "_________________________________________________________________\n",
      "dense_3 (Dense)              (None, 1)                 129       \n",
      "=================================================================\n",
      "Total params: 10,913\n",
      "Trainable params: 10,913\n",
      "Non-trainable params: 0\n",
      "_________________________________________________________________\n"
     ]
    }
   ],
   "source": [
    "m = nn_model(10)\n",
    "m.summary()"
   ]
  },
  {
   "cell_type": "markdown",
   "metadata": {},
   "source": [
    "# I. Individual training of the NN for each alphabet"
   ]
  },
  {
   "cell_type": "code",
   "execution_count": 10,
   "metadata": {},
   "outputs": [
    {
     "name": "stdout",
     "output_type": "stream",
     "text": [
      "\n",
      "Cyrillic\n",
      "Fitting in progress...\n",
      "Evaluation: [0.591407112379291, 0.6840296139608673]\n",
      "\n",
      "Alphabet of the Magi\n",
      "Fitting in progress...\n",
      "Evaluation: [0.614137899143654, 0.662719298245614]\n",
      "\n",
      "Futurama\n",
      "Fitting in progress...\n",
      "Evaluation: [0.5596552278878126, 0.7100169779286927]\n",
      "\n",
      "Japanese (Katakana)\n",
      "Fitting in progress...\n",
      "Evaluation: [0.6577104706632219, 0.608835798266895]\n",
      "\n",
      "Sanskrit\n",
      "Fitting in progress...\n",
      "Evaluation: [0.6049470816610425, 0.672388217918548]\n",
      "\n",
      "Armenian\n",
      "Fitting in progress...\n",
      "Evaluation: [0.6222944123009485, 0.6560023481943127]\n"
     ]
    }
   ],
   "source": [
    "for name, features, y in alphabets:\n",
    "    print(\"\\n\" + name)\n",
    "    X = pd.DataFrame(features, columns = list('abcdefghij'))\n",
    "    X = normalize_data(X)\n",
    "    X_train, X_test, y_train, y_test = train_test_split(X, y, test_size = 0.3, random_state=27)\n",
    "    \n",
    "    print(\"Fitting in progress...\")\n",
    "    standard_model = nn_model(10)\n",
    "    standard_model.fit(X_train, y_train, epochs = 50, batch_size = 32, verbose = 0, validation_split=0.2)\n",
    "    \n",
    "    print(\"Evaluation: \" + str(standard_model.evaluate(X_test, y_test, verbose = 0)))"
   ]
  },
  {
   "cell_type": "markdown",
   "metadata": {},
   "source": [
    "# II. Zero shot learning for every alphabet using Reptile on the rest "
   ]
  },
  {
   "cell_type": "markdown",
   "metadata": {},
   "source": [
    "#### Defing the Reptile algorithm, it takes the test data for the alphabet that we will be predicting and the rest of the alphabets what will be used by the algorithm to tune the NN. "
   ]
  },
  {
   "cell_type": "code",
   "execution_count": 18,
   "metadata": {},
   "outputs": [],
   "source": [
    "def reptile(X_test, y_test, alphabets, weights):\n",
    "\n",
    "    num_iters = 3\n",
    "    k = 10\n",
    "    sample_size = 1000\n",
    "    lr = 0.15\n",
    "\n",
    "    reptile_model = nn_model(10)\n",
    "    \n",
    "    if weights is not None:\n",
    "        reptile_model.set_weights(weights)\n",
    "        \n",
    "    W = reptile_model.get_weights()\n",
    "\n",
    "    print(\"\\nInitial evaluation: \" + str(reptile_model.evaluate(X_test, y_test, verbose = 0)) + \"\\n\")\n",
    "\n",
    "    for name, features, y in alphabets:\n",
    "\n",
    "        print('Updating NN weights with: ' + name)\n",
    "\n",
    "        X = pd.DataFrame(features, columns = list('abcdefghig'))\n",
    "        X = normalize_data(X)\n",
    "        \n",
    "        X_full, X_eval, y_full, y_eval = train_test_split(X, y, test_size = 0.3, random_state=27)\n",
    "\n",
    "        for iteration in range(num_iters):\n",
    "           \n",
    "            sample_indices = random.sample(range(len(X_full)), sample_size)\n",
    "            X_sample = np.array([X_full[index] for index in sample_indices])\n",
    "            y_sample = np.array([y_full[index] for index in sample_indices])\n",
    "\n",
    "            new_model = nn_model(10)\n",
    "            new_model.set_weights(W)\n",
    "            new_model.fit(X_sample, y_sample, epochs = k, batch_size = 1, verbose = 0)\n",
    "            _W = new_model.get_weights()\n",
    "\n",
    "            step_size = lr * (1 - iteration / num_iters) \n",
    "            delta = np.subtract(_W, W) * step_size\n",
    "\n",
    "            W = [sum(i) for i in zip(W, delta)] \n",
    "            \n",
    "        reptile_model.set_weights(W)\n",
    "        print(\"Evaluation: \" + str(reptile_model.evaluate(X_test, y_test, verbose = 0)))\n",
    "\n",
    "    reptile_model.set_weights(W)\n",
    "    print(\"\\nFinal evaluation: \" + str(reptile_model.evaluate(X_test, y_test, verbose = 0)))"
   ]
  },
  {
   "cell_type": "code",
   "execution_count": 19,
   "metadata": {},
   "outputs": [
    {
     "name": "stdout",
     "output_type": "stream",
     "text": [
      "\n",
      "========== Cyrillic\n",
      "\n",
      "Initial evaluation: [0.6920840293878225, 0.49603384452670546]\n",
      "\n",
      "Updating NN weights with: Alphabet of the Magi\n",
      "Evaluation: [0.6734341059268183, 0.6819143310102567]\n",
      "Updating NN weights with: Futurama\n",
      "Evaluation: [0.6507103847549556, 0.6557377048865126]\n",
      "Updating NN weights with: Japanese (Katakana)\n",
      "Evaluation: [0.6459210494218964, 0.6718667371445771]\n",
      "Updating NN weights with: Sanskrit\n",
      "Evaluation: [0.6356190380944202, 0.6692226334957141]\n",
      "Updating NN weights with: Armenian\n",
      "Evaluation: [0.6249378880201226, 0.6763617133476443]\n",
      "\n",
      "Final evaluation: [0.6249378880201226, 0.6763617133476443]\n",
      "\n",
      "========== Alphabet of the Magi\n",
      "\n",
      "Initial evaluation: [0.6904725614346956, 0.4921052631578947]\n",
      "\n",
      "Updating NN weights with: Cyrillic\n",
      "Evaluation: [0.672499448374698, 0.6285087719298246]\n",
      "Updating NN weights with: Futurama\n",
      "Evaluation: [0.6538204851903413, 0.6451754385964912]\n",
      "Updating NN weights with: Japanese (Katakana)\n",
      "Evaluation: [0.6497162890015987, 0.6675438596491228]\n",
      "Updating NN weights with: Sanskrit\n",
      "Evaluation: [0.6408145691219129, 0.6557017543859649]\n",
      "Updating NN weights with: Armenian\n",
      "Evaluation: [0.6332932518239607, 0.6671052631578948]\n",
      "\n",
      "Final evaluation: [0.6332932518239607, 0.6671052631578948]\n",
      "\n",
      "========== Futurama\n",
      "\n",
      "Initial evaluation: [0.6904506278766639, 0.4862478777589134]\n",
      "\n",
      "Updating NN weights with: Cyrillic\n",
      "Evaluation: [0.6663387663902774, 0.702546689303905]\n",
      "Updating NN weights with: Alphabet of the Magi\n",
      "Evaluation: [0.6432841112941554, 0.702546689303905]\n",
      "Updating NN weights with: Japanese (Katakana)\n",
      "Evaluation: [0.6387558410446996, 0.701528013582343]\n",
      "Updating NN weights with: Sanskrit\n",
      "Evaluation: [0.6249842519873472, 0.7022071307300509]\n",
      "Updating NN weights with: Armenian\n",
      "Evaluation: [0.6157619274330463, 0.699830220713073]\n",
      "\n",
      "Final evaluation: [0.6157619274330463, 0.699830220713073]\n",
      "\n",
      "========== Japanese (Katakana)\n",
      "\n",
      "Initial evaluation: [0.6921263456480223, 0.4973454683126262]\n",
      "\n",
      "Updating NN weights with: Cyrillic\n",
      "Evaluation: [0.6801746995737483, 0.5997345469465389]\n",
      "Updating NN weights with: Alphabet of the Magi\n",
      "Evaluation: [0.6711968656828514, 0.6035267350616715]\n",
      "Updating NN weights with: Futurama\n",
      "Evaluation: [0.6649395458663012, 0.6027682974431656]\n",
      "Updating NN weights with: Sanskrit\n",
      "Evaluation: [0.6631514066360554, 0.6016306409928036]\n",
      "Updating NN weights with: Armenian\n",
      "Evaluation: [0.661332408835773, 0.6001137657557919]\n",
      "\n",
      "Final evaluation: [0.661332408835773, 0.6001137657557919]\n",
      "\n",
      "========== Sanskrit\n",
      "\n",
      "Initial evaluation: [0.6914090691645486, 0.4965034965350735]\n",
      "\n",
      "Updating NN weights with: Cyrillic\n",
      "Evaluation: [0.674706421266751, 0.640389913167709]\n",
      "Updating NN weights with: Alphabet of the Magi\n",
      "Evaluation: [0.657342721746998, 0.6382708201395251]\n",
      "Updating NN weights with: Futurama\n",
      "Evaluation: [0.6461341172159918, 0.63233735966061]\n",
      "Updating NN weights with: Japanese (Katakana)\n",
      "Evaluation: [0.6478374398696926, 0.6242848061661418]\n",
      "Updating NN weights with: Armenian\n",
      "Evaluation: [0.643439736071217, 0.6297944480267893]\n",
      "\n",
      "Final evaluation: [0.643439736071217, 0.6297944480267893]\n",
      "\n",
      "========== Armenian\n",
      "\n",
      "Initial evaluation: [0.6927790796613288, 0.49750513658867856]\n",
      "\n",
      "Updating NN weights with: Cyrillic\n",
      "Evaluation: [0.6729019311190282, 0.637217493500918]\n",
      "Updating NN weights with: Alphabet of the Magi\n",
      "Evaluation: [0.6588112178491223, 0.6378045201144121]\n",
      "Updating NN weights with: Futurama\n",
      "Evaluation: [0.6464754459897829, 0.6451423539858533]\n",
      "Updating NN weights with: Japanese (Katakana)\n",
      "Evaluation: [0.6457434056404927, 0.6427942472607081]\n",
      "Updating NN weights with: Sanskrit\n",
      "Evaluation: [0.6429132972429811, 0.6339888466149787]\n",
      "\n",
      "Final evaluation: [0.6429132972429811, 0.6339888466149787]\n"
     ]
    }
   ],
   "source": [
    "for name, features, y in alphabets:\n",
    "    \n",
    "    print(\"\\n========== \" + name)\n",
    "\n",
    "    X = pd.DataFrame(features, columns = list('abcdefghig'))\n",
    "    X = normalize_data(X)\n",
    "    X_train, X_test, y_train, y_test = train_test_split(X, y, test_size = 0.3, random_state=27)\n",
    "    \n",
    "    other_alphabets = list(filter(lambda a: a[0] != name, alphabets))\n",
    "    \n",
    "    reptile(X_test, y_test, other_alphabets, None)"
   ]
  },
  {
   "cell_type": "markdown",
   "metadata": {},
   "source": [
    "#### Visuelization of the loss and accurancy over the course of the Reptile training for 'Alphabet of the Magi'"
   ]
  },
  {
   "cell_type": "code",
   "execution_count": 23,
   "metadata": {},
   "outputs": [
    {
     "data": {
      "text/plain": [
       "<matplotlib.legend.Legend at 0x26cfddb19e8>"
      ]
     },
     "execution_count": 23,
     "metadata": {},
     "output_type": "execute_result"
    },
    {
     "data": {
      "image/png": "[encoded data removed]",
      "text/plain": [
       "<Figure size 432x288 with 1 Axes>"
      ]
     },
     "metadata": {
      "needs_background": "light"
     },
     "output_type": "display_data"
    }
   ],
   "source": [
    "df=pd.DataFrame({'x': range(1,7), 'loss': [0.690, 0.673, 0.654, 0.649, 0.641, 0.633], 'accuracy': [0.492, 0.629, 0.645, 0.667, 0.655, 0.667]})\n",
    " \n",
    "plt.plot( 'x', 'accuracy', data=df, marker='o', markerfacecolor='skyblue', markersize=10, color='skyblue', linewidth=2)\n",
    "plt.plot( 'x', 'loss', data=df, marker='o', markerfacecolor='orange', markersize=10, color='orange', linewidth=2)\n",
    "plt.legend()"
   ]
  },
  {
   "cell_type": "markdown",
   "metadata": {},
   "source": [
    "# III. Zero shot learning for every alphabet with NN trained on pseudo alphabet"
   ]
  },
  {
   "cell_type": "code",
   "execution_count": 16,
   "metadata": {},
   "outputs": [
    {
     "name": "stdout",
     "output_type": "stream",
     "text": [
      "\n",
      "Alphabet 0l 7c\n",
      "Fitting in progress...\n",
      "Evaluation: [0.4247915832368075, 0.808726003573619]\n"
     ]
    }
   ],
   "source": [
    "name = pseudo_alphabets[5][0]\n",
    "features = pseudo_alphabets[5][1]\n",
    "y = pseudo_alphabets[5][2]\n",
    "\n",
    "print(\"\\n\" + name)\n",
    "X = pd.DataFrame(features, columns = list('abcdefghig'))\n",
    "X = normalize_data(X)\n",
    "X_train, X_test, y_train, y_test = train_test_split(X, y, test_size = 0.3, random_state=27)\n",
    "\n",
    "print(\"Fitting in progress...\")\n",
    "pseudo_model = nn_model(10)\n",
    "pseudo_model.fit(X_train, y_train, epochs = 50, batch_size = 32, verbose = 0, validation_split=0.2)\n",
    "\n",
    "print(\"Evaluation: \" + str(pseudo_model.evaluate(X_test, y_test, verbose = 0)))"
   ]
  },
  {
   "cell_type": "code",
   "execution_count": 17,
   "metadata": {},
   "outputs": [
    {
     "name": "stdout",
     "output_type": "stream",
     "text": [
      "\n",
      "Cyrillic\n",
      "Evaluation on pseudo model: [0.7758576368242266, 0.6478053939399235]\n",
      "\n",
      "Alphabet of the Magi\n",
      "Evaluation on pseudo model: [0.8375588017597533, 0.5666666666666667]\n",
      "\n",
      "Futurama\n",
      "Evaluation on pseudo model: [0.7411698318701648, 0.6149405772495755]\n",
      "\n",
      "Japanese (Katakana)\n",
      "Evaluation on pseudo model: [0.8683641474491998, 0.553090633250205]\n",
      "\n",
      "Sanskrit\n",
      "Evaluation on pseudo model: [0.7107506904922367, 0.6401780038901521]\n",
      "\n",
      "Armenian\n",
      "Evaluation on pseudo model: [0.8233069303030838, 0.5752861756259547]\n"
     ]
    }
   ],
   "source": [
    "for name, features, y in alphabets:\n",
    "    print(\"\\n\" + name)\n",
    "    \n",
    "    X = pd.DataFrame(features, columns = list('abcdefghig'))\n",
    "    X = normalize_data(X)\n",
    "    X_train, X_test, y_train, y_test = train_test_split(X, y, test_size = 0.3, random_state=27)\n",
    "    \n",
    "    print(\"Evaluation on pseudo model: \" + str(pseudo_model.evaluate(X_test, y_test, verbose = 0)))"
   ]
  },
  {
   "cell_type": "markdown",
   "metadata": {},
   "source": [
    "# IV. Zero shot learning for every alphabet using Reptile on pseudo alphabets"
   ]
  },
  {
   "cell_type": "code",
   "execution_count": 53,
   "metadata": {},
   "outputs": [],
   "source": [
    "def reptile_pseudo(alphabets):\n",
    "    num_iters = 7\n",
    "    k = 10\n",
    "    sample_size = 1000\n",
    "    lr = 0.1\n",
    "\n",
    "    reptile_model = nn_model(10)\n",
    "    W = reptile_model.get_weights()\n",
    "\n",
    "    for name, features, y in alphabets:\n",
    "\n",
    "        print('Updating NN weights with: ' + name)\n",
    "\n",
    "        X = pd.DataFrame(features, columns = list('abcdefghig'))\n",
    "        X = normalize_data(X)\n",
    "        \n",
    "        X_full, X_eval, y_full, y_eval = train_test_split(X, y, test_size = 0.3, random_state=27)\n",
    "\n",
    "        for iteration in range(num_iters):\n",
    "           \n",
    "            sample_indices = random.sample(range(len(X_full)), sample_size)\n",
    "            X_sample = np.array([X_full[index] for index in sample_indices])\n",
    "            y_sample = np.array([y_full[index] for index in sample_indices])\n",
    "\n",
    "            new_model = nn_model(10)\n",
    "            new_model.set_weights(W)\n",
    "            new_model.fit(X_sample, y_sample, epochs = k, batch_size = 1, verbose = 0)\n",
    "            _W = new_model.get_weights()\n",
    "\n",
    "            step_size = lr * (1 - iteration / num_iters) \n",
    "            delta = np.subtract(_W, W) * step_size\n",
    "\n",
    "            W = [sum(i) for i in zip(W, delta)] \n",
    "\n",
    "    reptile_model.set_weights(W)\n",
    "    return reptile_model"
   ]
  },
  {
   "cell_type": "code",
   "execution_count": 54,
   "metadata": {},
   "outputs": [
    {
     "name": "stdout",
     "output_type": "stream",
     "text": [
      "Updating NN weights with: Alphabet 2l 5c\n",
      "Updating NN weights with: Alphabet 4l 2c\n",
      "Updating NN weights with: Alphabet 4l 4c\n",
      "Updating NN weights with: Alphabet 5l 1c\n",
      "Updating NN weights with: Alphabet 7l 3c\n",
      "Updating NN weights with: Alphabet 0l 7c\n"
     ]
    }
   ],
   "source": [
    "reptile_pseudo_model = reptile_pseudo(pseudo_alphabets)"
   ]
  },
  {
   "cell_type": "code",
   "execution_count": 55,
   "metadata": {},
   "outputs": [
    {
     "name": "stdout",
     "output_type": "stream",
     "text": [
      "\n",
      "Cyrillic\n",
      "Evaluation on pseudo Reptile model: [0.7189999025302635, 0.6170871013992082]\n",
      "\n",
      "Alphabet of the Magi\n",
      "Evaluation on pseudo Reptile model: [0.8514774565320266, 0.5657894736842105]\n",
      "\n",
      "Futurama\n",
      "Evaluation on pseudo Reptile model: [0.7850433568549411, 0.5844116148994822]\n",
      "\n",
      "Japanese (Katakana)\n",
      "Evaluation on pseudo Reptile model: [0.8656192137758566, 0.5310046649220617]\n",
      "\n",
      "Sanskrit\n",
      "Evaluation on pseudo Reptile model: [0.6970228742746761, 0.6275669146201033]\n",
      "\n",
      "Armenian\n",
      "Evaluation on pseudo Reptile model: [0.8090986813915191, 0.5750770585277647]\n"
     ]
    }
   ],
   "source": [
    "for name, features, y in alphabets:\n",
    "    print(\"\\n\" + name)\n",
    "    \n",
    "    X = pd.DataFrame(features, columns = list('abcdefghig'))\n",
    "    X = normalize_data(X)\n",
    "    X_train, X_test, y_train, y_test = train_test_split(X, y, test_size = 0.3, random_state=27)\n",
    "    \n",
    "    print(\"Evaluation on pseudo Reptile model: \" + str(reptile_pseudo_model.evaluate(X, y, verbose = 0)))"
   ]
  }
 ],
 "metadata": {
  "kernelspec": {
   "display_name": "Python 3",
   "language": "python",
   "name": "python3"
  },
  "language_info": {
   "codemirror_mode": {
    "name": "ipython",
    "version": 3
   },
   "file_extension": ".py",
   "mimetype": "text/x-python",
   "name": "python",
   "nbconvert_exporter": "python",
   "pygments_lexer": "ipython3",
   "version": "3.6.7"
  }
 },
 "nbformat": 4,
 "nbformat_minor": 2
}
